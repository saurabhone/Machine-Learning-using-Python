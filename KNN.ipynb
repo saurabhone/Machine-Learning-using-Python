{
 "cells": [
  {
   "cell_type": "markdown",
   "metadata": {},
   "source": [
    "# This Super Store dataset which is imported from www.superdatascience.com where we are predicting the Region of the Super Store using Revenue."
   ]
  },
  {
   "cell_type": "markdown",
   "metadata": {},
   "source": [
    "### We will start using importing Python packages and dataset"
   ]
  },
  {
   "cell_type": "code",
   "execution_count": 28,
   "metadata": {},
   "outputs": [
    {
     "data": {
      "text/html": [
       "<div>\n",
       "<style>\n",
       "    .dataframe thead tr:only-child th {\n",
       "        text-align: right;\n",
       "    }\n",
       "\n",
       "    .dataframe thead th {\n",
       "        text-align: left;\n",
       "    }\n",
       "\n",
       "    .dataframe tbody tr th {\n",
       "        vertical-align: top;\n",
       "    }\n",
       "</style>\n",
       "<table border=\"1\" class=\"dataframe\">\n",
       "  <thead>\n",
       "    <tr style=\"text-align: right;\">\n",
       "      <th></th>\n",
       "      <th>Region</th>\n",
       "      <th>MarketingSpend</th>\n",
       "      <th>Revenue</th>\n",
       "    </tr>\n",
       "  </thead>\n",
       "  <tbody>\n",
       "    <tr>\n",
       "      <th>0</th>\n",
       "      <td>Region 2</td>\n",
       "      <td>2601</td>\n",
       "      <td>48610</td>\n",
       "    </tr>\n",
       "    <tr>\n",
       "      <th>1</th>\n",
       "      <td>Region 2</td>\n",
       "      <td>2727</td>\n",
       "      <td>45689</td>\n",
       "    </tr>\n",
       "    <tr>\n",
       "      <th>2</th>\n",
       "      <td>Region 2</td>\n",
       "      <td>2768</td>\n",
       "      <td>49554</td>\n",
       "    </tr>\n",
       "    <tr>\n",
       "      <th>3</th>\n",
       "      <td>Region 2</td>\n",
       "      <td>2759</td>\n",
       "      <td>38284</td>\n",
       "    </tr>\n",
       "    <tr>\n",
       "      <th>4</th>\n",
       "      <td>Region 2</td>\n",
       "      <td>2869</td>\n",
       "      <td>59887</td>\n",
       "    </tr>\n",
       "  </tbody>\n",
       "</table>\n",
       "</div>"
      ],
      "text/plain": [
       "     Region MarketingSpend Revenue\n",
       "0  Region 2           2601   48610\n",
       "1  Region 2           2727   45689\n",
       "2  Region 2           2768   49554\n",
       "3  Region 2           2759   38284\n",
       "4  Region 2           2869   59887"
      ]
     },
     "execution_count": 28,
     "metadata": {},
     "output_type": "execute_result"
    }
   ],
   "source": [
    "import numpy as np\n",
    "import pylab as pl\n",
    "import pandas as pd\n",
    "from sklearn import neighbors, datasets\n",
    "\n",
    "#iris = datasets.load_wine()\n",
    "sales=pd.read_csv(\"/Users/saurabhkarambalkar/Desktop/MLHW/db/salesdata.csv\",parse_dates=True)\n",
    "sales.head()"
   ]
  },
  {
   "cell_type": "markdown",
   "metadata": {},
   "source": [
    "### Now we will split our dataset in traing and testing data sets"
   ]
  },
  {
   "cell_type": "code",
   "execution_count": 48,
   "metadata": {},
   "outputs": [],
   "source": [
    "from sklearn.cross_validation import train_test_split\n",
    "\n",
    "# We will create matrix X and target vector y as follows\n",
    "X = np.array(sales.ix[:,1:3]) \t# end index is exclusive\n",
    "y = np.array(sales['Region']) \t# indexing\n",
    "\n",
    "# Spliting our dataset\n",
    "X_train, X_test, y_train, y_test = train_test_split(X, y, test_size=0.33, random_state=42)\n",
    "\n"
   ]
  },
  {
   "cell_type": "markdown",
   "metadata": {},
   "source": [
    "### Now we will load K nearest neighbor classifier libraries for Python"
   ]
  },
  {
   "cell_type": "code",
   "execution_count": 49,
   "metadata": {},
   "outputs": [
    {
     "name": "stdout",
     "output_type": "stream",
     "text": [
      "0.5\n"
     ]
    }
   ],
   "source": [
    "from sklearn.neighbors import KNeighborsClassifier\n",
    "from sklearn.metrics import accuracy_score\n",
    "\n",
    "# instantiate learning model (k = 3)\n",
    "knn = KNeighborsClassifier(n_neighbors=3)\n",
    "\n",
    "# fitting the data model\n",
    "knn.fit(X_train, y_train)\n",
    "\n",
    "# predicting the response\n",
    "pred = knn.predict(X_test)\n",
    "\n",
    "# evaluating accuracy of dataset\n",
    "print (accuracy_score(y_test, pred))"
   ]
  },
  {
   "cell_type": "markdown",
   "metadata": {},
   "source": [
    "### Now we will start the Cross Validation Process to validate our results"
   ]
  },
  {
   "cell_type": "code",
   "execution_count": 50,
   "metadata": {
    "collapsed": true
   },
   "outputs": [],
   "source": [
    "from sklearn.cross_validation import cross_val_score\n",
    "\n",
    "# creating odd list of K for KNN\n",
    "myList = list(range(1,30))\n",
    "\n",
    "# subsetting just the odd ones\n",
    "neighbors = list(filter(lambda x: x % 2 != 0, myList))\n",
    "\n",
    "# empty list that will hold cv scores\n",
    "cv_scores = []\n",
    "\n",
    "# perform 10-fold cross validation\n",
    "for k in neighbors:\n",
    "    knn = KNeighborsClassifier(n_neighbors=k)\n",
    "    scores = cross_val_score(knn, X_train, y_train, cv=10, scoring='accuracy')\n",
    "    cv_scores.append(scores.mean())"
   ]
  },
  {
   "cell_type": "code",
   "execution_count": 51,
   "metadata": {},
   "outputs": [
    {
     "data": {
      "text/plain": [
       "[0.54656565656565648,\n",
       " 0.51010101010101017,\n",
       " 0.481010101010101,\n",
       " 0.43333333333333329,\n",
       " 0.39747474747474748,\n",
       " 0.41262626262626262,\n",
       " 0.44464646464646462,\n",
       " 0.38202020202020204,\n",
       " 0.38090909090909097,\n",
       " 0.4022222222222222,\n",
       " 0.36111111111111116,\n",
       " 0.41404040404040404,\n",
       " 0.40313131313131317,\n",
       " 0.40131313131313134,\n",
       " 0.39909090909090911]"
      ]
     },
     "execution_count": 51,
     "metadata": {},
     "output_type": "execute_result"
    }
   ],
   "source": [
    "cv_scores"
   ]
  },
  {
   "cell_type": "code",
   "execution_count": 53,
   "metadata": {},
   "outputs": [
    {
     "data": {
      "text/plain": [
       "[0.45343434343434352,\n",
       " 0.48989898989898983,\n",
       " 0.518989898989899,\n",
       " 0.56666666666666665,\n",
       " 0.60252525252525246,\n",
       " 0.58737373737373733,\n",
       " 0.55535353535353538,\n",
       " 0.61797979797979796,\n",
       " 0.61909090909090903,\n",
       " 0.59777777777777774,\n",
       " 0.63888888888888884,\n",
       " 0.58595959595959601,\n",
       " 0.59686868686868677,\n",
       " 0.59868686868686871,\n",
       " 0.60090909090909084]"
      ]
     },
     "execution_count": 53,
     "metadata": {},
     "output_type": "execute_result"
    }
   ],
   "source": [
    "cv_scores\n",
    "MSE = [1 - x for x in cv_scores]\n",
    "MSE\n",
    "#MSE.index(min(MSE))\n",
    "#MSE.index(min(MSE))\n",
    "#neighbors[3]"
   ]
  },
  {
   "cell_type": "markdown",
   "metadata": {},
   "source": [
    "### Now we will plot the Cross Validation K Fold using MATPLOTLIB in Python"
   ]
  },
  {
   "cell_type": "code",
   "execution_count": 55,
   "metadata": {},
   "outputs": [
    {
     "name": "stdout",
     "output_type": "stream",
     "text": [
      "The optimal number of neighbors is : 1\n"
     ]
    },
    {
     "data": {
      "image/png": "[encoded data removed]",
      "text/plain": [
       "<matplotlib.figure.Figure at 0x10d5c1198>"
      ]
     },
     "metadata": {},
     "output_type": "display_data"
    }
   ],
   "source": [
    "import matplotlib.pyplot as plt\n",
    "\n",
    "#Calculating MSE\n",
    "MSE = [1 - x for x in cv_scores]\n",
    "\n",
    "# deciding best k\n",
    "optimal_k = neighbors[MSE.index(min(MSE))]\n",
    "\n",
    "print (\"The optimal number of neighbors is :\",optimal_k)\n",
    "\n",
    "# Now we will plot the misclassification error vs k\n",
    "plt.plot(neighbors, MSE)\n",
    "plt.xlabel('Number of Neighbors K')\n",
    "plt.ylabel('Misclassification Error')\n",
    "plt.show()"
   ]
  },
  {
   "cell_type": "markdown",
   "metadata": {},
   "source": [
    "## Now we will perform some functions as follows\n",
    "### Training Function"
   ]
  },
  {
   "cell_type": "code",
   "execution_count": 40,
   "metadata": {
    "collapsed": true
   },
   "outputs": [],
   "source": [
    "def train(X_train, y_train):\n",
    "\t# do nothing \n",
    "\treturn"
   ]
  },
  {
   "cell_type": "markdown",
   "metadata": {},
   "source": [
    "### Predicting Function"
   ]
  },
  {
   "cell_type": "code",
   "execution_count": 41,
   "metadata": {
    "collapsed": true
   },
   "outputs": [],
   "source": [
    "def predict(X_train, y_train, x_test, k):\n",
    "\t# creating the list for distances and targets\n",
    "\tdistances = []\n",
    "\ttargets = []\n",
    "\n",
    "\tfor i in range(len(X_train)):\n",
    "\t\t# now first we will compute the euclidean distance\n",
    "\t\tdistance = np.sqrt(np.sum(np.square(x_test - X_train[i, :])))\n",
    "\t\t# adding it to list of distances\n",
    "\t\tdistances.append([distance, i])\n",
    "\n",
    "\t# sorting the list\n",
    "\tdistances = sorted(distances)\n",
    "\n",
    "\t# making a list of the k neighbors' targets\n",
    "\tfor i in range(k):\n",
    "\t\tindex = distances[i][1]\n",
    "\t\ttargets.append(y_train[index])\n",
    "\n",
    "\t# return most common target\n",
    "\treturn Counter(targets).most_common(1)[0][0]\n"
   ]
  },
  {
   "cell_type": "markdown",
   "metadata": {},
   "source": [
    "### K Nearest Neighbor Function"
   ]
  },
  {
   "cell_type": "code",
   "execution_count": 45,
   "metadata": {},
   "outputs": [],
   "source": [
    "from collections import Counter\n",
    "def kNearestNeighbor(X_train, y_train, X_test, predictions, k):\n",
    "\t# train on the input data\n",
    "\ttrain(X_train, y_train)\n",
    "\n",
    "\t# loop over all observations\n",
    "\tfor i in range(len(X_test)):\n",
    "\t\tpredictions.append(predict(X_train, y_train, X_test[i, :], k))\n",
    "        \n",
    " "
   ]
  },
  {
   "cell_type": "markdown",
   "metadata": {},
   "source": [
    "### Prediction Function"
   ]
  },
  {
   "cell_type": "code",
   "execution_count": null,
   "metadata": {},
   "outputs": [],
   "source": [
    "# making our predictions \n",
    "predictions = []\n",
    "\n",
    "kNearestNeighbor(X_train, y_train, X_test, predictions, 3)\n",
    "\n",
    "# transform the list into an array\n",
    "predictions = np.asarray(predictions)\n",
    "\n",
    "# evaluating accuracy\n",
    "accuracy = accuracy_score(y_test, predictions)\n",
    "print(accuracy*100)"
   ]
  },
  {
   "cell_type": "markdown",
   "metadata": {},
   "source": [
    "### Citations :-\n",
    "#### https://www.superdatascience.com/tableau/\n",
    "#### http://scikit-learn.org/stable/\n",
    "#### https://github.com/scikit-learn/scikit-learn"
   ]
  }
 ],
 "metadata": {
  "kernelspec": {
   "display_name": "Python 3",
   "language": "python",
   "name": "python3"
  },
  "language_info": {
   "codemirror_mode": {
    "name": "ipython",
    "version": 3
   },
   "file_extension": ".py",
   "mimetype": "text/x-python",
   "name": "python",
   "nbconvert_exporter": "python",
   "pygments_lexer": "ipython3",
   "version": "3.6.1"
  }
 },
 "nbformat": 4,
 "nbformat_minor": 2
}
